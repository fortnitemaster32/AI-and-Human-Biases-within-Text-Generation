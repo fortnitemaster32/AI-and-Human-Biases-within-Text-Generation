{
 "cells": [
  {
   "cell_type": "markdown",
   "id": "4ed853a9",
   "metadata": {},
   "source": [
    "# AI and Human Biases within Text Generation\n",
    "<small>Data set source: https://www.kaggle.com/code/sumedh1507/human-vs-ai-text-classification</small>"
   ]
  },
  {
   "cell_type": "code",
   "execution_count": 53,
   "id": "1978cb1f",
   "metadata": {},
   "outputs": [
    {
     "data": {
      "text/html": [
       "<div>\n",
       "<style scoped>\n",
       "    .dataframe tbody tr th:only-of-type {\n",
       "        vertical-align: middle;\n",
       "    }\n",
       "\n",
       "    .dataframe tbody tr th {\n",
       "        vertical-align: top;\n",
       "    }\n",
       "\n",
       "    .dataframe thead th {\n",
       "        text-align: right;\n",
       "    }\n",
       "</style>\n",
       "<table border=\"1\" class=\"dataframe\">\n",
       "  <thead>\n",
       "    <tr style=\"text-align: right;\">\n",
       "      <th></th>\n",
       "      <th>content_type</th>\n",
       "      <th>word_count</th>\n",
       "      <th>character_count</th>\n",
       "      <th>sentence_count</th>\n",
       "      <th>lexical_diversity</th>\n",
       "      <th>avg_sentence_length</th>\n",
       "      <th>avg_word_length</th>\n",
       "      <th>punctuation_ratio</th>\n",
       "      <th>flesch_reading_ease</th>\n",
       "      <th>gunning_fog_index</th>\n",
       "      <th>grammar_errors</th>\n",
       "      <th>passive_voice_ratio</th>\n",
       "      <th>predictability_score</th>\n",
       "      <th>burstiness</th>\n",
       "      <th>sentiment_score</th>\n",
       "      <th>label</th>\n",
       "    </tr>\n",
       "  </thead>\n",
       "  <tbody>\n",
       "    <tr>\n",
       "      <th>0</th>\n",
       "      <td>academic_paper</td>\n",
       "      <td>288</td>\n",
       "      <td>1927</td>\n",
       "      <td>54</td>\n",
       "      <td>0.9514</td>\n",
       "      <td>5.33</td>\n",
       "      <td>5.69</td>\n",
       "      <td>0.0280</td>\n",
       "      <td>53.08</td>\n",
       "      <td>7.41</td>\n",
       "      <td>1</td>\n",
       "      <td>0.1041</td>\n",
       "      <td>105.86</td>\n",
       "      <td>0.5531</td>\n",
       "      <td>0.2034</td>\n",
       "      <td>1</td>\n",
       "    </tr>\n",
       "    <tr>\n",
       "      <th>1</th>\n",
       "      <td>essay</td>\n",
       "      <td>253</td>\n",
       "      <td>1719</td>\n",
       "      <td>45</td>\n",
       "      <td>0.9723</td>\n",
       "      <td>5.62</td>\n",
       "      <td>5.80</td>\n",
       "      <td>0.0262</td>\n",
       "      <td>50.32</td>\n",
       "      <td>8.10</td>\n",
       "      <td>6</td>\n",
       "      <td>0.2045</td>\n",
       "      <td>100.29</td>\n",
       "      <td>0.5643</td>\n",
       "      <td>0.4854</td>\n",
       "      <td>1</td>\n",
       "    </tr>\n",
       "    <tr>\n",
       "      <th>2</th>\n",
       "      <td>academic_paper</td>\n",
       "      <td>420</td>\n",
       "      <td>2849</td>\n",
       "      <td>75</td>\n",
       "      <td>0.9071</td>\n",
       "      <td>5.60</td>\n",
       "      <td>5.79</td>\n",
       "      <td>0.0263</td>\n",
       "      <td>46.86</td>\n",
       "      <td>7.86</td>\n",
       "      <td>5</td>\n",
       "      <td>0.2308</td>\n",
       "      <td>96.88</td>\n",
       "      <td>0.4979</td>\n",
       "      <td>-0.2369</td>\n",
       "      <td>1</td>\n",
       "    </tr>\n",
       "    <tr>\n",
       "      <th>3</th>\n",
       "      <td>creative_writing</td>\n",
       "      <td>196</td>\n",
       "      <td>1310</td>\n",
       "      <td>34</td>\n",
       "      <td>0.9592</td>\n",
       "      <td>5.76</td>\n",
       "      <td>5.69</td>\n",
       "      <td>0.0260</td>\n",
       "      <td>53.80</td>\n",
       "      <td>7.00</td>\n",
       "      <td>2</td>\n",
       "      <td>0.1912</td>\n",
       "      <td>88.79</td>\n",
       "      <td>0.6241</td>\n",
       "      <td>NaN</td>\n",
       "      <td>1</td>\n",
       "    </tr>\n",
       "    <tr>\n",
       "      <th>4</th>\n",
       "      <td>news_article</td>\n",
       "      <td>160</td>\n",
       "      <td>1115</td>\n",
       "      <td>28</td>\n",
       "      <td>0.9688</td>\n",
       "      <td>5.71</td>\n",
       "      <td>5.97</td>\n",
       "      <td>0.0251</td>\n",
       "      <td>44.53</td>\n",
       "      <td>8.29</td>\n",
       "      <td>0</td>\n",
       "      <td>0.1318</td>\n",
       "      <td>26.15</td>\n",
       "      <td>0.2894</td>\n",
       "      <td>NaN</td>\n",
       "      <td>1</td>\n",
       "    </tr>\n",
       "  </tbody>\n",
       "</table>\n",
       "</div>"
      ],
      "text/plain": [
       "       content_type  word_count  character_count  sentence_count  \\\n",
       "0    academic_paper         288             1927              54   \n",
       "1             essay         253             1719              45   \n",
       "2    academic_paper         420             2849              75   \n",
       "3  creative_writing         196             1310              34   \n",
       "4      news_article         160             1115              28   \n",
       "\n",
       "   lexical_diversity  avg_sentence_length  avg_word_length  punctuation_ratio  \\\n",
       "0             0.9514                 5.33             5.69             0.0280   \n",
       "1             0.9723                 5.62             5.80             0.0262   \n",
       "2             0.9071                 5.60             5.79             0.0263   \n",
       "3             0.9592                 5.76             5.69             0.0260   \n",
       "4             0.9688                 5.71             5.97             0.0251   \n",
       "\n",
       "   flesch_reading_ease  gunning_fog_index  grammar_errors  \\\n",
       "0                53.08               7.41               1   \n",
       "1                50.32               8.10               6   \n",
       "2                46.86               7.86               5   \n",
       "3                53.80               7.00               2   \n",
       "4                44.53               8.29               0   \n",
       "\n",
       "   passive_voice_ratio  predictability_score  burstiness  sentiment_score  \\\n",
       "0               0.1041                105.86      0.5531           0.2034   \n",
       "1               0.2045                100.29      0.5643           0.4854   \n",
       "2               0.2308                 96.88      0.4979          -0.2369   \n",
       "3               0.1912                 88.79      0.6241              NaN   \n",
       "4               0.1318                 26.15      0.2894              NaN   \n",
       "\n",
       "   label  \n",
       "0      1  \n",
       "1      1  \n",
       "2      1  \n",
       "3      1  \n",
       "4      1  "
      ]
     },
     "execution_count": 53,
     "metadata": {},
     "output_type": "execute_result"
    }
   ],
   "source": [
    "import pandas as pd \n",
    "filename = \"ai_human_content_detection_dataset.csv\"\n",
    "df = pd.read_csv(filename)\n",
    "df = df.drop(columns= 'text_content')\n",
    "df.head()"
   ]
  },
  {
   "cell_type": "code",
   "execution_count": 54,
   "id": "648fbd19",
   "metadata": {},
   "outputs": [
    {
     "data": {
      "text/plain": [
       "Ai(1)-Human(0)\n",
       "0    684\n",
       "1    683\n",
       "Name: count, dtype: int64"
      ]
     },
     "execution_count": 54,
     "metadata": {},
     "output_type": "execute_result"
    }
   ],
   "source": [
    "df = df.rename(columns={'label': 'Ai(1)-Human(0)'})\n",
    "df['Ai(1)-Human(0)'].value_counts()"
   ]
  },
  {
   "cell_type": "code",
   "execution_count": 55,
   "id": "c598e058",
   "metadata": {},
   "outputs": [
    {
     "data": {
      "text/plain": [
       "(1179, 16)"
      ]
     },
     "execution_count": 55,
     "metadata": {},
     "output_type": "execute_result"
    }
   ],
   "source": [
    "df = df.dropna()\n",
    "df.shape"
   ]
  },
  {
   "cell_type": "markdown",
   "id": "cde35cd0",
   "metadata": {},
   "source": [
    "## Lexical Diversity Comparison: AI vs Human Generated Text"
   ]
  },
  {
   "cell_type": "code",
   "execution_count": 56,
   "id": "48690c05",
   "metadata": {},
   "outputs": [
    {
     "data": {
      "image/png": "[encoded data removed]",
      "text/plain": [
       "<Figure size 640x480 with 1 Axes>"
      ]
     },
     "metadata": {},
     "output_type": "display_data"
    }
   ],
   "source": [
    "import matplotlib.pyplot as plt\n",
    "ai = df[df['Ai(1)-Human(0)'] == 1]['lexical_diversity']\n",
    "human = df[df['Ai(1)-Human(0)'] == 0]['lexical_diversity']\n",
    "plt.hist([ai, human], bins=15, alpha=0.5, label=['AI', 'Human'], color=['red', 'green'])\n",
    "plt.legend()\n",
    "plt.show()"
   ]
  },
  {
   "cell_type": "markdown",
   "id": "5d5db77d",
   "metadata": {},
   "source": [
    "### Conclusion\n",
    "- The lower range of lexical diversity does incur slight bias towards AI\n",
    "- The bin inbetween 0.98 and 1.00 appears to be an anomly, likely due to the small size of the data set\n",
    "- Overall, Nothing of note as the data displays no significant bias for Humans or AI with respect to differing Lexicality\n"
   ]
  },
  {
   "cell_type": "markdown",
   "id": "6b113265",
   "metadata": {},
   "source": [
    "## Avg Sentence and Word Length Comparison : AI vs Human Generated Text"
   ]
  },
  {
   "cell_type": "code",
   "execution_count": 57,
   "id": "8eacfbcb",
   "metadata": {},
   "outputs": [
    {
     "data": {
      "image/png": "[encoded data removed]",
      "text/plain": [
       "<Figure size 640x480 with 1 Axes>"
      ]
     },
     "metadata": {},
     "output_type": "display_data"
    }
   ],
   "source": [
    "import matplotlib.pyplot as plt\n",
    "ai_wrd = df[df['Ai(1)-Human(0)'] == 1]['word_count']\n",
    "human_wrd = df[df['Ai(1)-Human(0)'] == 0]['word_count']\n",
    "ai_sent = df[df['Ai(1)-Human(0)'] == 1]['sentence_count']\n",
    "human_sent = df[df['Ai(1)-Human(0)'] == 0]['sentence_count']\n",
    "plt.hist([ai_wrd, human_wrd, ai_sent, human_sent], bins=15, alpha=0.5, label=['AI Word', 'Human Word', 'AI Sentence','Human Sentences'], color=['red', 'green', 'red', 'green'])\n",
    "plt.legend()\n",
    "plt.show()"
   ]
  },
  {
   "cell_type": "code",
   "execution_count": null,
   "id": "902e4bf4",
   "metadata": {},
   "outputs": [],
   "source": []
  }
 ],
 "metadata": {
  "kernelspec": {
   "display_name": "Python 3",
   "language": "python",
   "name": "python3"
  },
  "language_info": {
   "codemirror_mode": {
    "name": "ipython",
    "version": 3
   },
   "file_extension": ".py",
   "mimetype": "text/x-python",
   "name": "python",
   "nbconvert_exporter": "python",
   "pygments_lexer": "ipython3",
   "version": "3.12.0"
  }
 },
 "nbformat": 4,
 "nbformat_minor": 5
}
